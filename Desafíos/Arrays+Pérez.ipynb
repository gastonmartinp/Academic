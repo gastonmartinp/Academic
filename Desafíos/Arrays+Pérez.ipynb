{
 "cells": [
  {
   "cell_type": "markdown",
   "id": "5f4078ca",
   "metadata": {},
   "source": [
    "# Alumno \n",
    "Pérez Gastón"
   ]
  },
  {
   "cell_type": "markdown",
   "id": "b8e917ff",
   "metadata": {},
   "source": [
    "## Ejercicio 01\n",
    "Generar un array aleatorio de 100 elementos. Calcular la mediana correspondiente."
   ]
  },
  {
   "cell_type": "code",
   "execution_count": 1,
   "id": "11097250",
   "metadata": {},
   "outputs": [],
   "source": [
    "#Importamos librería NumPy\n",
    "\n",
    "import numpy as np"
   ]
  },
  {
   "cell_type": "code",
   "execution_count": 6,
   "id": "9870c9ab",
   "metadata": {},
   "outputs": [
    {
     "name": "stdout",
     "output_type": "stream",
     "text": [
      "Bienvenidx a este programa\n",
      "Para comenzar ingrese 1. Si no desea continuar, pulse 0: 1\n",
      "\n",
      "Generador de arrays aleatorio compuestos por 100 elementos\n",
      "==========================================================\n",
      "\n",
      "Su array Random es:\n",
      "-------------------\n",
      "[[85  5 67 89 61 87 78 65  7 59]\n",
      " [87 32 93 65 86 87  2 60 96 11]\n",
      " [97  3 62 59 63 53 57 15 35 44]\n",
      " [16 38 49 80 68 86 95 29 49 91]\n",
      " [17 46 97 23 59  0  0 19 57  7]\n",
      " [31 87 81 30  5 85 71 87 38 10]\n",
      " [ 2 37 64 18 49 74 10  3 32 38]\n",
      " [ 1 81 17 62 77 23  1 72 75 75]\n",
      " [70 31 44 64 27 10 13 12 44 60]\n",
      " [72 14 31 13 22 17 20  3 53 84]]\n",
      "\n",
      "La mediana de su array es = 49.0\n",
      "¿Quiere volver a utilizar el programa?: no\n",
      "¡Adiós Vaquerx!\n"
     ]
    }
   ],
   "source": [
    "def arrayRandom ():\n",
    "    print(\"\\nGenerador de arrays aleatorio compuestos por 100 elementos\")\n",
    "    print(\"==========================================================\")\n",
    "\n",
    "    arrayAleatorio = np.random.randint(100, size=(10,10))\n",
    "    \n",
    "    print(\"\\nSu array Random es:\")\n",
    "    print(\"-------------------\")\n",
    "    print(arrayAleatorio)\n",
    "    \n",
    "    mediana = np.median(arrayAleatorio)\n",
    "    print(\"\\nLa mediana de su array es =\",mediana)\n",
    "    \n",
    "    consulta = input(\"¿Quiere volver a utilizar el programa?: \")\n",
    "\n",
    "    while consulta == \"si\":\n",
    "        arrayRandom()\n",
    "        consulta = input(\"¿Quiere volver a utilizar el programa?: \")\n",
    "    else:\n",
    "        print(\"¡Adiós Vaquerx!\")\n",
    "\n",
    "print(\"Bienvenidx a este programa\")\n",
    "init = int(input(\"Para comenzar ingrese 1. Si no desea continuar, pulse 0: \"))\n",
    "\n",
    "if init == 1:\n",
    "    arrayRandom()\n",
    "else:\n",
    "    print(\"La próxima será :)\")\n"
   ]
  },
  {
   "cell_type": "markdown",
   "id": "856f558f",
   "metadata": {},
   "source": [
    "## Ejercicio 02\n",
    "Recordar los ejercicios con funciones para cálculo de factorial y suma de serie de la Clase 02. Repetir ambos ejercicios, pero ahora utilizar las nuevas operaciones aprendidas con los ndarrays."
   ]
  },
  {
   "cell_type": "code",
   "execution_count": null,
   "id": "b179dec5",
   "metadata": {},
   "outputs": [],
   "source": []
  },
  {
   "cell_type": "markdown",
   "id": "a3c1a2d0",
   "metadata": {},
   "source": [
    "## Ejercicio 03\n",
    "En este link se provee un archivo con los resultados de la Encuesta de Sueldos de Openqube de Febrero 2020 (https://sueldos.openqube.io/encuesta-sueldos-2020.02/ ), Calcular y comparar media y mediana de los sueldos netos."
   ]
  },
  {
   "cell_type": "code",
   "execution_count": null,
   "id": "ebc78bfd",
   "metadata": {},
   "outputs": [],
   "source": []
  }
 ],
 "metadata": {
  "kernelspec": {
   "display_name": "Python 3",
   "language": "python",
   "name": "python3"
  },
  "language_info": {
   "codemirror_mode": {
    "name": "ipython",
    "version": 3
   },
   "file_extension": ".py",
   "mimetype": "text/x-python",
   "name": "python",
   "nbconvert_exporter": "python",
   "pygments_lexer": "ipython3",
   "version": "3.8.8"
  }
 },
 "nbformat": 4,
 "nbformat_minor": 7
}
