{
 "cells": [
  {
   "cell_type": "markdown",
   "metadata": {
    "id": "wj9cfm8o5yJb"
   },
   "source": [
    "## **Alumno**\n",
    "Pérez, Gastón"
   ]
  },
  {
   "cell_type": "markdown",
   "metadata": {
    "id": "4V5oNEg25o9E"
   },
   "source": [
    "---"
   ]
  },
  {
   "cell_type": "markdown",
   "metadata": {
    "id": "KO6CD_qQ5aWH"
   },
   "source": [
    "### **Ejercicio 01:** \n",
    "Escribir una función para calcular el factorial de un número cualquiera. "
   ]
  },
  {
   "cell_type": "code",
   "execution_count": 1,
   "metadata": {
    "colab": {
     "base_uri": "https://localhost:8080/"
    },
    "executionInfo": {
     "elapsed": 8598,
     "status": "ok",
     "timestamp": 1633662158851,
     "user": {
      "displayName": "Gaston Perez",
      "photoUrl": "https://lh3.googleusercontent.com/a-/AOh14Gha4Roovl6vZs337xqa5dGE4f_pxajFlMWKiAOSt7g=s64",
      "userId": "18129617538652602810"
     },
     "user_tz": 180
    },
    "id": "uRSVnjkD32Ps",
    "outputId": "252fa33b-20fc-4987-b6f1-37e427e5ca5a"
   },
   "outputs": [
    {
     "name": "stdout",
     "output_type": "stream",
     "text": [
      "CALCULADORA DE FACTORIALES\n",
      "==========================\n",
      "\n",
      "Ingrese un número para calcular su factorial: 5\n",
      "\n",
      "1  x  5\n",
      "5  x  4\n",
      "20  x  3\n",
      "60  x  2\n",
      "120  x  1\n",
      "\n",
      "El factorial del número ingresado es 120\n"
     ]
    }
   ],
   "source": [
    "print(\"CALCULADORA DE FACTORIALES\")\n",
    "print(\"==========================\\n\")\n",
    "\n",
    "def factorial():\n",
    "  \n",
    "  n = int(input(\"Ingrese un número para calcular su factorial: \"))\n",
    "  f = 1\n",
    "\n",
    "  while n<0:\n",
    "    print(\"La calculadora de factoriales no funciona para números negativos\")\n",
    "    n = int(input(\"Ingrese un número para calcular su factorial: \"))\n",
    "\n",
    "  print(\"\")\n",
    "\n",
    "  for i in range(n):\n",
    "    print(f,\" x \",n)\n",
    "    f *= n\n",
    "    n -= 1\n",
    "\n",
    "  print(\"\\nEl factorial del número ingresado es\",f)\n",
    "\n",
    "factorial()"
   ]
  },
  {
   "cell_type": "markdown",
   "metadata": {
    "id": "DyLb4fJu3EQ6"
   },
   "source": [
    "## **Ejercicio 02:** \n",
    "Escribir una función para calcular la suma de una serie comenzando por un número cualquiera y terminando en otro número que debe ser mayor al primero"
   ]
  },
  {
   "cell_type": "code",
   "execution_count": 22,
   "metadata": {
    "colab": {
     "base_uri": "https://localhost:8080/"
    },
    "executionInfo": {
     "elapsed": 12667,
     "status": "ok",
     "timestamp": 1633662197902,
     "user": {
      "displayName": "Gaston Perez",
      "photoUrl": "https://lh3.googleusercontent.com/a-/AOh14Gha4Roovl6vZs337xqa5dGE4f_pxajFlMWKiAOSt7g=s64",
      "userId": "18129617538652602810"
     },
     "user_tz": 180
    },
    "id": "0oY1Lp4i25Ae",
    "outputId": "9ea11108-687a-4626-d238-b79e115c1f78"
   },
   "outputs": [
    {
     "name": "stdout",
     "output_type": "stream",
     "text": [
      "Antes de comenzar, ¿cuál es su nombre?: Gastón\n",
      " \n",
      "Bienvenidx 'Gastón' a la calculadora de series.\n",
      "\n",
      "Debe ingresar un número 'a', y luego un número 'b' mayor a 'a'.\n",
      "• Ingrese 'a': 2\n",
      "• Ingrese 'b': 1\n",
      "Por favor, ingresar un número mayor a 'a'.\n",
      "• Ingrese 'b': 2\n",
      "Por favor, ingresar un número mayor a 'a'.\n",
      "• Ingrese 'b': 5\n",
      "\n",
      "La suma de la serie es = 14\n"
     ]
    }
   ],
   "source": [
    "nombre = input(\"Antes de comenzar, ¿cuál es su nombre?: \")\n",
    "print(\" \\nBienvenidx '\"+str(nombre)+\"' a la calculadora de series.\\n\")\n",
    "print(\"Debe ingresar un número 'a', y luego un número 'b' mayor a 'a'.\")\n",
    "\n",
    "def sumaSeries():\n",
    "\n",
    "  a = int(input(\"• Ingrese 'a': \"))\n",
    "  b = int(input(\"• Ingrese 'b': \"))\n",
    "  suma = 0\n",
    "\n",
    "  while b <= a:\n",
    "    print(\"Por favor, ingresar un número mayor a 'a'.\")\n",
    "    b = int(input(\"• Ingrese 'b': \"))\n",
    "\n",
    "  for i in range(a,b+1):\n",
    "    suma += i\n",
    "\n",
    "  print(\"\\nLa suma de la serie es =\",suma)\n",
    "\n",
    "sumaSeries()"
   ]
  }
 ],
 "metadata": {
  "colab": {
   "authorship_tag": "ABX9TyNOyzDl1lrz0ESJcFQzTx3H",
   "collapsed_sections": [],
   "name": "Funciones+Pérez.ipynb",
   "provenance": []
  },
  "kernelspec": {
   "display_name": "Python 3",
   "language": "python",
   "name": "python3"
  },
  "language_info": {
   "codemirror_mode": {
    "name": "ipython",
    "version": 3
   },
   "file_extension": ".py",
   "mimetype": "text/x-python",
   "name": "python",
   "nbconvert_exporter": "python",
   "pygments_lexer": "ipython3",
   "version": "3.8.8"
  }
 },
 "nbformat": 4,
 "nbformat_minor": 1
}
