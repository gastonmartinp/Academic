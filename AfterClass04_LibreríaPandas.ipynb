{
  "nbformat": 4,
  "nbformat_minor": 0,
  "metadata": {
    "colab": {
      "name": "AfterClass04_LibreríaPandas.ipynb",
      "provenance": [],
      "toc_visible": true,
      "include_colab_link": true
    },
    "kernelspec": {
      "name": "python3",
      "display_name": "Python 3"
    },
    "language_info": {
      "name": "python"
    }
  },
  "cells": [
    {
      "cell_type": "markdown",
      "metadata": {
        "id": "view-in-github",
        "colab_type": "text"
      },
      "source": [
        "<a href=\"https://colab.research.google.com/github/gastonmartinp/Academic/blob/main/AfterClass04_Librer%C3%ADaPandas.ipynb\" target=\"_parent\"><img src=\"https://colab.research.google.com/assets/colab-badge.svg\" alt=\"Open In Colab\"/></a>"
      ]
    },
    {
      "cell_type": "markdown",
      "metadata": {
        "id": "31MDZ2y5P9is"
      },
      "source": [
        "#CODERHOUSE DS - 22745\n",
        "After Class Nro. 4 - Libreria Pandas\n",
        "\n",
        "Esta notebook tiene el objetivo de profundizar un poco más en los temas vistos en clase 05 del dia 12/octubre/2021\n",
        "\n",
        "\n"
      ]
    },
    {
      "cell_type": "markdown",
      "metadata": {
        "id": "T0NsDcFLtrTM"
      },
      "source": [
        "# Libreria Pandas\n",
        "\n",
        "## Series\n",
        "*One-dimensional ndarray with axis labels (including time series).*\n",
        "\n",
        "Link a documentación:\n",
        "\n",
        "https://pandas.pydata.org/docs/reference/api/pandas.Series.html\n",
        "\n",
        "\n",
        "Un objeto Series tiene dos componentes: un índice y un vector de datos, ambos con la misma longitud. El índice contiene valores únicos y, por lo general, ordenados, y se usa para acceder a valores individuales de los datos.\n",
        "\n",
        "\n",
        "## Dataframes\n",
        "\n",
        "*Two-dimensional, size-mutable, potentially heterogeneous tabular data.*\n",
        "\n",
        "Link a documentación:\n",
        "\n",
        "https://pandas.pydata.org/docs/reference/frame.html\n",
        "\n",
        "Un dataframe esencialmente es una tabla con columnas y filas indexadas, de forma tal que podemos acceder fácilmente a filas mediante el índice. También podemos unir, separar o filtrar dataframes trabajando sobre el índice. En general, los dataframes le van a resultar bastante familiares a quienes sepan SQL.\n",
        "\n",
        "Los dataframes pueden tener datos no heterogéneos y además son **objetos** con **métodos** útiles para extraer información de forma rápida (por ejemplo, computar histogramas de valores). También es posible convertirlos a *arrays de Numpy* si así lo necesitamos, aunque no lo vamos a hacer a menos que sea realmente necesario."
      ]
    },
    {
      "cell_type": "markdown",
      "metadata": {
        "id": "345CLNpQB02D"
      },
      "source": [
        "# Creando Series"
      ]
    },
    {
      "cell_type": "markdown",
      "metadata": {
        "id": "x73R5LQkCQil"
      },
      "source": [
        "## A partir de listas"
      ]
    },
    {
      "cell_type": "code",
      "metadata": {
        "colab": {
          "base_uri": "https://localhost:8080/"
        },
        "id": "zDv9hzIrB3Uo",
        "outputId": "4a0bb37c-ec1b-4a38-a3b1-999d55b380dd"
      },
      "source": [
        "import pandas as pd\n",
        "\n",
        "lista = ['a','bien',[3,8],'c',7,('a',3),10.8]\n",
        "s1 = pd.Series(data=lista)\n",
        "print(s1)\n",
        "print(type(s1))\n",
        "\n",
        "#indices = ['uno', 'dos','tres','cuatro','cinco','seis', 'siete']\n",
        "#s2 = pd.Series(data=lista, index=indices)\n",
        "#print(s2)"
      ],
      "execution_count": null,
      "outputs": [
        {
          "output_type": "stream",
          "name": "stdout",
          "text": [
            "0         a\n",
            "1      bien\n",
            "2    [3, 8]\n",
            "3         c\n",
            "4         7\n",
            "5    (a, 3)\n",
            "6      10.8\n",
            "dtype: object\n",
            "<class 'pandas.core.series.Series'>\n"
          ]
        }
      ]
    },
    {
      "cell_type": "markdown",
      "metadata": {
        "id": "O-D33HXa9U18"
      },
      "source": [
        "## A partir de diccionarios"
      ]
    },
    {
      "cell_type": "code",
      "metadata": {
        "colab": {
          "base_uri": "https://localhost:8080/"
        },
        "id": "y16IjUGG9XCE",
        "outputId": "078466c0-e844-484e-bc61-3960e8c395a0"
      },
      "source": [
        "d1 = {'A' : 10, 'B' : 20, 'C' : 30} #clave(llave) y valor \n",
        "series1 = pd.Series(d1)\n",
        "print(series1)\n",
        "\n",
        "\n",
        "#creamos un diccionario a partir de dos listas\n",
        "valores = ['a','b',3,'c',7,'d',10]\n",
        "indices = ['uno', 'dos','tres','cuatro','cinco','seis', 'siete']\n",
        "d2 = dict(zip(indices, valores))\n",
        "#print(d2)\n",
        "\n",
        "series2 = pd.Series(d2)\n",
        "#print(series2)"
      ],
      "execution_count": null,
      "outputs": [
        {
          "output_type": "stream",
          "name": "stdout",
          "text": [
            "A    10\n",
            "B    20\n",
            "C    30\n",
            "dtype: int64\n"
          ]
        }
      ]
    },
    {
      "cell_type": "markdown",
      "metadata": {
        "id": "qN-xVH2ICS0o"
      },
      "source": [
        "## A partir de arrays"
      ]
    },
    {
      "cell_type": "code",
      "metadata": {
        "colab": {
          "base_uri": "https://localhost:8080/"
        },
        "id": "tPFkswulCUwE",
        "outputId": "2710aef9-cd72-4d79-e525-ba1cd0ec67a8"
      },
      "source": [
        "import pandas as pd\n",
        "import numpy as np\n",
        "\n",
        "x = np.arange(9,0,-1) # Crear un rango de 9 a 1 contando uno a uno (hacia atras)\n",
        "s = pd.Series(data=x**2) # x**2 devuelve el valor de cada elemento de x elevado al cuadrado\n",
        "\n",
        "print(s)\n",
        "print(type(s))"
      ],
      "execution_count": null,
      "outputs": [
        {
          "output_type": "stream",
          "name": "stdout",
          "text": [
            "0    81\n",
            "1    64\n",
            "2    49\n",
            "3    36\n",
            "4    25\n",
            "5    16\n",
            "6     9\n",
            "7     4\n",
            "8     1\n",
            "dtype: int64\n",
            "<class 'pandas.core.series.Series'>\n"
          ]
        }
      ]
    },
    {
      "cell_type": "markdown",
      "metadata": {
        "id": "kLOPU-4w30Hi"
      },
      "source": [
        "# Operaciones con Series"
      ]
    },
    {
      "cell_type": "markdown",
      "metadata": {
        "id": "U-iT_7njEvDl"
      },
      "source": [
        "## modificando una serie"
      ]
    },
    {
      "cell_type": "code",
      "metadata": {
        "id": "yqGInC2qEx9S",
        "colab": {
          "base_uri": "https://localhost:8080/"
        },
        "outputId": "a9380995-1e6c-46d3-f499-ab041fb08c80"
      },
      "source": [
        "s = pd.Series([0, 1, 2, 3, 4])\n",
        "s.replace(0, 5)"
      ],
      "execution_count": null,
      "outputs": [
        {
          "output_type": "execute_result",
          "data": {
            "text/plain": [
              "0    5\n",
              "1    1\n",
              "2    2\n",
              "3    3\n",
              "4    4\n",
              "dtype: int64"
            ]
          },
          "metadata": {},
          "execution_count": 4
        }
      ]
    },
    {
      "cell_type": "code",
      "metadata": {
        "colab": {
          "base_uri": "https://localhost:8080/"
        },
        "id": "MEBVQOZoFFLA",
        "outputId": "6ccd759d-2f53-4621-ab30-daeb00153e2d"
      },
      "source": [
        "s = pd.Series([10, 'a', 'a', 'b', 'a'])\n",
        "s.replace({'a': None})"
      ],
      "execution_count": null,
      "outputs": [
        {
          "output_type": "execute_result",
          "data": {
            "text/plain": [
              "0      10\n",
              "1    None\n",
              "2    None\n",
              "3       b\n",
              "4    None\n",
              "dtype: object"
            ]
          },
          "metadata": {},
          "execution_count": 5
        }
      ]
    },
    {
      "cell_type": "markdown",
      "metadata": {
        "id": "4EOi1Y6MEyxz"
      },
      "source": [
        "##Operando con series"
      ]
    },
    {
      "cell_type": "code",
      "metadata": {
        "colab": {
          "base_uri": "https://localhost:8080/"
        },
        "id": "YN_KJTTE41Dn",
        "outputId": "5325da82-5728-4373-a600-2258b1faca02"
      },
      "source": [
        "#suma acumulada\n",
        "s = pd.Series([2, np.nan, 5, -1, 0])\n",
        "print(s)\n",
        "\n",
        "#2, 2+5, 2+5-1, 2+5-1+0\n",
        "s.cumsum()"
      ],
      "execution_count": null,
      "outputs": [
        {
          "output_type": "stream",
          "name": "stdout",
          "text": [
            "0    2.0\n",
            "1    NaN\n",
            "2    5.0\n",
            "3   -1.0\n",
            "4    0.0\n",
            "dtype: float64\n"
          ]
        },
        {
          "output_type": "execute_result",
          "data": {
            "text/plain": [
              "0    2.0\n",
              "1    NaN\n",
              "2    7.0\n",
              "3    6.0\n",
              "4    6.0\n",
              "dtype: float64"
            ]
          },
          "metadata": {},
          "execution_count": 6
        }
      ]
    },
    {
      "cell_type": "code",
      "metadata": {
        "colab": {
          "base_uri": "https://localhost:8080/"
        },
        "id": "5IJwnYBW5UbE",
        "outputId": "9788e44c-eb13-4067-f19f-ca92850994cd"
      },
      "source": [
        "# Agrupando datos\n",
        "ser = pd.Series(data=[390., 350., 30., 20.], index=['Halcon', 'Halcon', 'Loro', 'Loro'], name=\"Velocidad max\")\n",
        "print(ser)\n",
        "ser.groupby(level=0).mean()\n"
      ],
      "execution_count": null,
      "outputs": [
        {
          "output_type": "stream",
          "name": "stdout",
          "text": [
            "Halcon    390.0\n",
            "Halcon    350.0\n",
            "Loro       30.0\n",
            "Loro       20.0\n",
            "Name: Velocidad max, dtype: float64\n"
          ]
        },
        {
          "output_type": "execute_result",
          "data": {
            "text/plain": [
              "Halcon    370.0\n",
              "Loro       25.0\n",
              "Name: Velocidad max, dtype: float64"
            ]
          },
          "metadata": {},
          "execution_count": 7
        }
      ]
    },
    {
      "cell_type": "code",
      "metadata": {
        "colab": {
          "base_uri": "https://localhost:8080/"
        },
        "id": "gJMrKrSeHBuA",
        "outputId": "d0fe67b0-6491-4f1e-ee9b-d0bfd9801e3b"
      },
      "source": [
        "# sumando dos series\n",
        "a = pd.Series([35000,71000,16000,5000],index=['Ohio','Texas','Oregon','Utah'])\n",
        "b = pd.Series([np.nan,71000,16000,35000],index=['California', 'Texas', 'Oregon', 'Ohio'])\n",
        "\n",
        "a+b"
      ],
      "execution_count": null,
      "outputs": [
        {
          "output_type": "execute_result",
          "data": {
            "text/plain": [
              "California         NaN\n",
              "Ohio           70000.0\n",
              "Oregon         32000.0\n",
              "Texas         142000.0\n",
              "Utah               NaN\n",
              "dtype: float64"
            ]
          },
          "metadata": {},
          "execution_count": 8
        }
      ]
    },
    {
      "cell_type": "code",
      "metadata": {
        "colab": {
          "base_uri": "https://localhost:8080/",
          "height": 238
        },
        "id": "cTT5FEhLIaeF",
        "outputId": "925758f4-0e59-4afd-9dbe-1464fec631ea"
      },
      "source": [
        "#pd.concat((a,b))\n",
        "pd.concat((a,b), axis=1)"
      ],
      "execution_count": null,
      "outputs": [
        {
          "output_type": "execute_result",
          "data": {
            "text/html": [
              "<div>\n",
              "<style scoped>\n",
              "    .dataframe tbody tr th:only-of-type {\n",
              "        vertical-align: middle;\n",
              "    }\n",
              "\n",
              "    .dataframe tbody tr th {\n",
              "        vertical-align: top;\n",
              "    }\n",
              "\n",
              "    .dataframe thead th {\n",
              "        text-align: right;\n",
              "    }\n",
              "</style>\n",
              "<table border=\"1\" class=\"dataframe\">\n",
              "  <thead>\n",
              "    <tr style=\"text-align: right;\">\n",
              "      <th></th>\n",
              "      <th>primer parcial</th>\n",
              "      <th>segundo parcial</th>\n",
              "    </tr>\n",
              "  </thead>\n",
              "  <tbody>\n",
              "    <tr>\n",
              "      <th>0</th>\n",
              "      <td>7.0</td>\n",
              "      <td>10.0</td>\n",
              "    </tr>\n",
              "    <tr>\n",
              "      <th>1</th>\n",
              "      <td>8.0</td>\n",
              "      <td>9.0</td>\n",
              "    </tr>\n",
              "    <tr>\n",
              "      <th>2</th>\n",
              "      <td>7.0</td>\n",
              "      <td>10.0</td>\n",
              "    </tr>\n",
              "    <tr>\n",
              "      <th>3</th>\n",
              "      <td>7.0</td>\n",
              "      <td>4.0</td>\n",
              "    </tr>\n",
              "    <tr>\n",
              "      <th>4</th>\n",
              "      <td>NaN</td>\n",
              "      <td>10.0</td>\n",
              "    </tr>\n",
              "    <tr>\n",
              "      <th>5</th>\n",
              "      <td>10.0</td>\n",
              "      <td>NaN</td>\n",
              "    </tr>\n",
              "  </tbody>\n",
              "</table>\n",
              "</div>"
            ],
            "text/plain": [
              "   primer parcial  segundo parcial\n",
              "0             7.0             10.0\n",
              "1             8.0              9.0\n",
              "2             7.0             10.0\n",
              "3             7.0              4.0\n",
              "4             NaN             10.0\n",
              "5            10.0              NaN"
            ]
          },
          "metadata": {},
          "execution_count": 54
        }
      ]
    },
    {
      "cell_type": "code",
      "metadata": {
        "colab": {
          "base_uri": "https://localhost:8080/"
        },
        "id": "VQWWKsn8IJ0B",
        "outputId": "c92f08f4-1e22-453e-9226-97e36456f1f6"
      },
      "source": [
        "# una mejor forma\n",
        "ab = a.add(b, fill_value=0)\n",
        "\n",
        "ab"
      ],
      "execution_count": null,
      "outputs": [
        {
          "output_type": "execute_result",
          "data": {
            "text/plain": [
              "California         NaN\n",
              "Ohio           70000.0\n",
              "Oregon         32000.0\n",
              "Texas         142000.0\n",
              "Utah            5000.0\n",
              "dtype: float64"
            ]
          },
          "metadata": {},
          "execution_count": 10
        }
      ]
    },
    {
      "cell_type": "markdown",
      "metadata": {
        "id": "94HGK4OpuG1g"
      },
      "source": [
        "# Creando Dataframes\n"
      ]
    },
    {
      "cell_type": "markdown",
      "metadata": {
        "id": "SAug8ESIC_nK"
      },
      "source": [
        "## A partir de un diccionario\n",
        "\n",
        "\n",
        "Una forma de construir dataframes es a partir de diccionarios, de forma tal que asignamos una **lista a cada llave**, que representa una columna del dataframe:"
      ]
    },
    {
      "cell_type": "code",
      "metadata": {
        "colab": {
          "base_uri": "https://localhost:8080/"
        },
        "id": "Vgl-CgFQuPxM",
        "outputId": "3c2a6bf4-3b7c-4d24-c736-ee6b19ef19da"
      },
      "source": [
        "# Tenemos un diccionario donde para cada alumno tenemos nombre, nota primer parcial,\n",
        "# nota segundo parcial, observaciones y DNI\n",
        "datos = {'alumno': ['Zutano', 'Mengano', 'Pepe' ,'Fulanito, Cosme', 'Maria'], \n",
        "         'primer parcial': [7, 8,7,4, 10], 'segundo parcial': [10,9,4,10,10], \n",
        "         'observaciones':['ninguna','libre','ninguna','libre','oyente'], \n",
        "         'DNI':[23000000, 12389100, 99999, 1001,30406011]}\n",
        "\n",
        "import pandas as pd\n",
        "\n",
        "df = pd.DataFrame(datos)\n",
        "\n",
        "print(df)"
      ],
      "execution_count": null,
      "outputs": [
        {
          "output_type": "stream",
          "name": "stdout",
          "text": [
            "            alumno  primer parcial  segundo parcial observaciones       DNI\n",
            "0           Zutano               7               10       ninguna  23000000\n",
            "1          Mengano               8                9         libre  12389100\n",
            "2             Pepe               7                4       ninguna     99999\n",
            "3  Fulanito, Cosme               4               10         libre      1001\n",
            "4            Maria              10               10        oyente  30406011\n"
          ]
        }
      ]
    },
    {
      "cell_type": "markdown",
      "metadata": {
        "id": "DSVhrsRLu2jC"
      },
      "source": [
        "Vemos que las filas están identificadas con números (0,1,2,..). Esos números corresponden al índice (*index*). Podemos obtener las columnas y el índice de un dataframe como listas usando los siguientes métodos:"
      ]
    },
    {
      "cell_type": "markdown",
      "metadata": {
        "id": "1f9ZsaVj_Bsu"
      },
      "source": [
        "## A partir de un archivo"
      ]
    },
    {
      "cell_type": "code",
      "metadata": {
        "id": "8ssFpZXm_A9U",
        "colab": {
          "base_uri": "https://localhost:8080/"
        },
        "outputId": "66a17b11-bd1c-48f1-e946-3a7829d804cd"
      },
      "source": [
        "import pandas as pd\n",
        "import os\n",
        "\n",
        "from google.colab import drive\n",
        "drive.mount('/content/drive')"
      ],
      "execution_count": null,
      "outputs": [
        {
          "output_type": "stream",
          "name": "stdout",
          "text": [
            "Drive already mounted at /content/drive; to attempt to forcibly remount, call drive.mount(\"/content/drive\", force_remount=True).\n"
          ]
        }
      ]
    },
    {
      "cell_type": "code",
      "metadata": {
        "id": "maA87u8_EF-7",
        "colab": {
          "base_uri": "https://localhost:8080/"
        },
        "outputId": "f100c35c-197b-45be-d0cf-9b333df133da"
      },
      "source": [
        "path = '/content/drive/MyDrive/AfterClass 04/'\n",
        "filename = 'ejemplo.txt'\n",
        "\n",
        "df = pd.read_csv(os.path.join(path, filename), sep=';')\n",
        "print(df)\n",
        "print(type(df))"
      ],
      "execution_count": null,
      "outputs": [
        {
          "output_type": "stream",
          "name": "stdout",
          "text": [
            "            alumno  primer parcial  segundo parcial observaciones       DNI\n",
            "0           Zutano               7               10       ninguna  23000000\n",
            "1          Mengano               8                9         libre  12389100\n",
            "2             Pepe               7                4       ninguna     99999\n",
            "3  Fulanito, Cosme               4               10         libre      1001\n",
            "4            Maria              10               10        oyente  30406011\n",
            "<class 'pandas.core.frame.DataFrame'>\n"
          ]
        }
      ]
    },
    {
      "cell_type": "code",
      "metadata": {
        "id": "OzqXYb4cu2Si",
        "colab": {
          "base_uri": "https://localhost:8080/"
        },
        "outputId": "4f7bf23a-87c2-4217-a7b9-2a59a86d6ca5"
      },
      "source": [
        "print(list(df.columns))\n",
        "print(list(df.index))\n",
        "\n",
        "#df.rows #Esto no funciona!\n",
        "#En todo caso podemos optar por:\n",
        "\n",
        "for index, row in df.iterrows():\n",
        "  print(row['alumno'])\n"
      ],
      "execution_count": null,
      "outputs": [
        {
          "output_type": "stream",
          "name": "stdout",
          "text": [
            "['alumno', 'primer parcial', 'segundo parcial', 'observaciones', 'DNI']\n",
            "[0, 1, 2, 3, 4]\n",
            "Zutano\n",
            "Mengano\n",
            "Pepe\n",
            "Fulanito, Cosme\n",
            "Maria\n"
          ]
        }
      ]
    },
    {
      "cell_type": "markdown",
      "metadata": {
        "id": "WtAdfMgLwIQJ"
      },
      "source": [
        "## Series y dataframes, a partir de un dataframe\n",
        "\n",
        "Podemos ademas seleccionar una columna del dataframe como si se tratase de un diccionario. El objeto resultante se llama \"series\":"
      ]
    },
    {
      "cell_type": "code",
      "metadata": {
        "id": "KUtERqZlwKuI",
        "colab": {
          "base_uri": "https://localhost:8080/"
        },
        "outputId": "5b92c2a1-6d13-4253-e1a6-5a45e6e25459"
      },
      "source": [
        "print(type(df))\n",
        "print(df['alumno'])\n",
        "print(type(df['alumno']))"
      ],
      "execution_count": null,
      "outputs": [
        {
          "output_type": "stream",
          "name": "stdout",
          "text": [
            "<class 'pandas.core.frame.DataFrame'>\n",
            "0             Zutano\n",
            "1            Mengano\n",
            "2               Pepe\n",
            "3    Fulanito, Cosme\n",
            "4              Maria\n",
            "Name: alumno, dtype: object\n",
            "<class 'pandas.core.series.Series'>\n"
          ]
        }
      ]
    },
    {
      "cell_type": "markdown",
      "metadata": {
        "id": "Q7hbauK8wj_Y"
      },
      "source": [
        "Para obtener filas en vez de columnas, podemos usar el método df.loc con una lista de los índices que queremos acceder:"
      ]
    },
    {
      "cell_type": "code",
      "metadata": {
        "id": "bJ8Q0s_lwjoo",
        "colab": {
          "base_uri": "https://localhost:8080/"
        },
        "outputId": "5def5420-fb7c-4c93-81f3-2597851144c5"
      },
      "source": [
        "# Cual es la diferencia?\n",
        "\n",
        "# como serie\n",
        "print(df.loc[1])\n",
        "print(type(df.loc[1]))\n",
        "\n",
        "\n",
        "# como dataframe\n",
        "print(df.loc[[1]])\n",
        "print(type(df.loc[[1]]))"
      ],
      "execution_count": null,
      "outputs": [
        {
          "output_type": "stream",
          "name": "stdout",
          "text": [
            "alumno              Mengano\n",
            "primer parcial            8\n",
            "segundo parcial           9\n",
            "observaciones         libre\n",
            "DNI                12389100\n",
            "Name: 1, dtype: object\n",
            "<class 'pandas.core.series.Series'>\n",
            "    alumno  primer parcial  segundo parcial observaciones       DNI\n",
            "1  Mengano               8                9         libre  12389100\n",
            "<class 'pandas.core.frame.DataFrame'>\n"
          ]
        }
      ]
    },
    {
      "cell_type": "code",
      "metadata": {
        "id": "Hh1O1blWxdtB",
        "colab": {
          "base_uri": "https://localhost:8080/",
          "height": 144
        },
        "outputId": "4553618b-3633-4ed7-b52b-2f29fbd634e1"
      },
      "source": [
        "df.loc[[2,3,4]]\n",
        "# o bien\n",
        "#df.loc[2:4]"
      ],
      "execution_count": null,
      "outputs": [
        {
          "output_type": "execute_result",
          "data": {
            "text/html": [
              "<div>\n",
              "<style scoped>\n",
              "    .dataframe tbody tr th:only-of-type {\n",
              "        vertical-align: middle;\n",
              "    }\n",
              "\n",
              "    .dataframe tbody tr th {\n",
              "        vertical-align: top;\n",
              "    }\n",
              "\n",
              "    .dataframe thead th {\n",
              "        text-align: right;\n",
              "    }\n",
              "</style>\n",
              "<table border=\"1\" class=\"dataframe\">\n",
              "  <thead>\n",
              "    <tr style=\"text-align: right;\">\n",
              "      <th></th>\n",
              "      <th>alumno</th>\n",
              "      <th>primer parcial</th>\n",
              "      <th>segundo parcial</th>\n",
              "      <th>observaciones</th>\n",
              "      <th>DNI</th>\n",
              "    </tr>\n",
              "  </thead>\n",
              "  <tbody>\n",
              "    <tr>\n",
              "      <th>2</th>\n",
              "      <td>Pepe</td>\n",
              "      <td>7</td>\n",
              "      <td>4</td>\n",
              "      <td>ninguna</td>\n",
              "      <td>99999</td>\n",
              "    </tr>\n",
              "    <tr>\n",
              "      <th>3</th>\n",
              "      <td>Fulanito, Cosme</td>\n",
              "      <td>4</td>\n",
              "      <td>10</td>\n",
              "      <td>libre</td>\n",
              "      <td>1001</td>\n",
              "    </tr>\n",
              "    <tr>\n",
              "      <th>4</th>\n",
              "      <td>Maria</td>\n",
              "      <td>10</td>\n",
              "      <td>10</td>\n",
              "      <td>oyente</td>\n",
              "      <td>30406011</td>\n",
              "    </tr>\n",
              "  </tbody>\n",
              "</table>\n",
              "</div>"
            ],
            "text/plain": [
              "            alumno  primer parcial  segundo parcial observaciones       DNI\n",
              "2             Pepe               7                4       ninguna     99999\n",
              "3  Fulanito, Cosme               4               10         libre      1001\n",
              "4            Maria              10               10        oyente  30406011"
            ]
          },
          "metadata": {},
          "execution_count": 17
        }
      ]
    },
    {
      "cell_type": "markdown",
      "metadata": {
        "id": "cSQTcZgky5qS"
      },
      "source": [
        "# Indices"
      ]
    },
    {
      "cell_type": "markdown",
      "metadata": {
        "id": "qoS1AA1jxsuC"
      },
      "source": [
        "## Definir un indice diferente\n",
        "\n",
        "Podríamos haber querido otro índice en vez de [0,1,2,...] para nuestro dataframe. En ese caso, le agregamos el parámetro index a la hora de crearlo:"
      ]
    },
    {
      "cell_type": "code",
      "metadata": {
        "id": "ZpGVrGkdxvkl",
        "colab": {
          "base_uri": "https://localhost:8080/"
        },
        "outputId": "fc499e57-0303-4721-d146-7fd5d3de36ca"
      },
      "source": [
        "datos = {'alumno': ['Zutano', 'Mengano', 'Pepe' ,'Fulanito, Cosme', 'Maria'], 'primer parcial': [7, 8,7,4, 10], 'segundo parcial': [10,9,4,10,10], 'observaciones':['ninguna','libre','ninguna','libre','oyente'], 'DNI':[23000000, 12389100, 99999, 1001,30406011]}\n",
        "df = pd.DataFrame(datos, index=['uno',3,'cinco',7,'nueve'])\n",
        "print(df)"
      ],
      "execution_count": null,
      "outputs": [
        {
          "output_type": "stream",
          "name": "stdout",
          "text": [
            "                alumno  primer parcial  segundo parcial observaciones       DNI\n",
            "uno             Zutano               7               10       ninguna  23000000\n",
            "3              Mengano               8                9         libre  12389100\n",
            "cinco             Pepe               7                4       ninguna     99999\n",
            "7      Fulanito, Cosme               4               10         libre      1001\n",
            "nueve            Maria              10               10        oyente  30406011\n"
          ]
        }
      ]
    },
    {
      "cell_type": "markdown",
      "metadata": {
        "id": "PI2sM0Eux4Kz"
      },
      "source": [
        "Y el proceso de ubicar filas es igual al anterior:"
      ]
    },
    {
      "cell_type": "code",
      "metadata": {
        "id": "4DxUra8Bx4rF",
        "colab": {
          "base_uri": "https://localhost:8080/",
          "height": 112
        },
        "outputId": "acad58a7-adf4-4904-ccf1-27da50c7db40"
      },
      "source": [
        "df.loc[[7,'uno']]"
      ],
      "execution_count": null,
      "outputs": [
        {
          "output_type": "execute_result",
          "data": {
            "text/html": [
              "<div>\n",
              "<style scoped>\n",
              "    .dataframe tbody tr th:only-of-type {\n",
              "        vertical-align: middle;\n",
              "    }\n",
              "\n",
              "    .dataframe tbody tr th {\n",
              "        vertical-align: top;\n",
              "    }\n",
              "\n",
              "    .dataframe thead th {\n",
              "        text-align: right;\n",
              "    }\n",
              "</style>\n",
              "<table border=\"1\" class=\"dataframe\">\n",
              "  <thead>\n",
              "    <tr style=\"text-align: right;\">\n",
              "      <th></th>\n",
              "      <th>alumno</th>\n",
              "      <th>primer parcial</th>\n",
              "      <th>segundo parcial</th>\n",
              "      <th>observaciones</th>\n",
              "      <th>DNI</th>\n",
              "    </tr>\n",
              "  </thead>\n",
              "  <tbody>\n",
              "    <tr>\n",
              "      <th>7</th>\n",
              "      <td>Fulanito, Cosme</td>\n",
              "      <td>4</td>\n",
              "      <td>10</td>\n",
              "      <td>libre</td>\n",
              "      <td>1001</td>\n",
              "    </tr>\n",
              "    <tr>\n",
              "      <th>uno</th>\n",
              "      <td>Zutano</td>\n",
              "      <td>7</td>\n",
              "      <td>10</td>\n",
              "      <td>ninguna</td>\n",
              "      <td>23000000</td>\n",
              "    </tr>\n",
              "  </tbody>\n",
              "</table>\n",
              "</div>"
            ],
            "text/plain": [
              "              alumno  primer parcial  segundo parcial observaciones       DNI\n",
              "7    Fulanito, Cosme               4               10         libre      1001\n",
              "uno           Zutano               7               10       ninguna  23000000"
            ]
          },
          "metadata": {},
          "execution_count": 19
        }
      ]
    },
    {
      "cell_type": "markdown",
      "metadata": {
        "id": "PLfxUd9Ax_83"
      },
      "source": [
        "## Modificar el índice \n",
        "\n",
        "Puede que ya hayamos creado un dataframe y después de hacerlo nos demos cuenta de que una de las columnas tiene más sentido como índice que otra. En ese caso, lo que buscamos es reindexar el dataframe usando los valores de esa columna. En general conviene utilizar como índice algo que sea un identificador único de cada elemento en el dataframe; en este caso, el DNI puede cumplir con esa función."
      ]
    },
    {
      "cell_type": "code",
      "metadata": {
        "id": "Vr1p9h4fyAwl",
        "colab": {
          "base_uri": "https://localhost:8080/"
        },
        "outputId": "e7b2b991-437b-402c-b38a-748933356bc9"
      },
      "source": [
        "df_DNI = df.set_index('DNI')\n",
        "print(df_DNI)"
      ],
      "execution_count": null,
      "outputs": [
        {
          "output_type": "stream",
          "name": "stdout",
          "text": [
            "                   alumno  primer parcial  segundo parcial observaciones\n",
            "DNI                                                                     \n",
            "23000000           Zutano               7               10       ninguna\n",
            "12389100          Mengano               8                9         libre\n",
            "99999                Pepe               7                4       ninguna\n",
            "1001      Fulanito, Cosme               4               10         libre\n",
            "30406011            Maria              10               10        oyente\n"
          ]
        }
      ]
    },
    {
      "cell_type": "markdown",
      "metadata": {
        "id": "Dg4UeMQlyhIg"
      },
      "source": [
        "# Métodos de limpieza de datos\n",
        "Una ventaja del dataframe son los métodos que tiene para la limpieza de datos. Esto es útil si por ejemplo queremos descartar filas o columnas duplicadas o con datos faltantes. Supongamos que tenemos un dataframe en el cual faltan algunos datos (identificados con \"nan\") y algunas de las filas están duplicadas. "
      ]
    },
    {
      "cell_type": "code",
      "metadata": {
        "id": "VGPOonRmzFb5",
        "colab": {
          "base_uri": "https://localhost:8080/"
        },
        "outputId": "a29370c0-a133-4c1f-c512-4e81f155e9d5"
      },
      "source": [
        "import numpy as np # necesito numpy para escribir nan\n",
        "datos = {'alumno': ['Zutano', 'Mengano', 'Zutano','Pepe' ,'Fulanito, Cosme', 'Maria'], 'primer parcial': [7, 8,7,7,np.nan, 10], 'segundo parcial': [10,9,10,4,10,np.nan], 'observaciones':['ninguna','libre','ninguna','ninguna','libre','oyente'], 'DNI':[23000000, 12389100,23000000, 99999, 1001,30406011]}\n",
        "df = pd.DataFrame(datos)\n",
        "print(df)"
      ],
      "execution_count": null,
      "outputs": [
        {
          "output_type": "stream",
          "name": "stdout",
          "text": [
            "            alumno  primer parcial  segundo parcial observaciones       DNI\n",
            "0           Zutano             7.0             10.0       ninguna  23000000\n",
            "1          Mengano             8.0              9.0         libre  12389100\n",
            "2           Zutano             7.0             10.0       ninguna  23000000\n",
            "3             Pepe             7.0              4.0       ninguna     99999\n",
            "4  Fulanito, Cosme             NaN             10.0         libre      1001\n",
            "5            Maria            10.0              NaN        oyente  30406011\n"
          ]
        }
      ]
    },
    {
      "cell_type": "markdown",
      "metadata": {
        "id": "F9fYHGsBzMMa"
      },
      "source": [
        "Eliminamos las columnas que tienen Nan. Para eso usamos el método df.dropna()"
      ]
    },
    {
      "cell_type": "code",
      "metadata": {
        "id": "YArtKsJuzNB7",
        "colab": {
          "base_uri": "https://localhost:8080/"
        },
        "outputId": "4d04498b-9d5b-45dd-bb3f-262a96f0cff2"
      },
      "source": [
        "df_2 = df.dropna()\n",
        "print(df_2)"
      ],
      "execution_count": null,
      "outputs": [
        {
          "output_type": "stream",
          "name": "stdout",
          "text": [
            "    alumno  primer parcial  segundo parcial observaciones       DNI\n",
            "0   Zutano             7.0             10.0       ninguna  23000000\n",
            "1  Mengano             8.0              9.0         libre  12389100\n",
            "2   Zutano             7.0             10.0       ninguna  23000000\n",
            "3     Pepe             7.0              4.0       ninguna     99999\n"
          ]
        }
      ]
    },
    {
      "cell_type": "markdown",
      "metadata": {
        "id": "BVbal-9rzUiB"
      },
      "source": [
        "Observemos que había varias maneras de hacer esto. Por ejemplo, podríamos haber querido eliminar las columnas que tenían un nan, en vez de las filas:"
      ]
    },
    {
      "cell_type": "code",
      "metadata": {
        "id": "aKLHH-VbzVh9",
        "colab": {
          "base_uri": "https://localhost:8080/"
        },
        "outputId": "11ef471f-8c4f-4699-8569-19a49076f605"
      },
      "source": [
        "df_3 = df.dropna(axis=1)\n",
        "print(df_3)"
      ],
      "execution_count": null,
      "outputs": [
        {
          "output_type": "stream",
          "name": "stdout",
          "text": [
            "            alumno observaciones       DNI\n",
            "0           Zutano       ninguna  23000000\n",
            "1          Mengano         libre  12389100\n",
            "2           Zutano       ninguna  23000000\n",
            "3             Pepe       ninguna     99999\n",
            "4  Fulanito, Cosme         libre      1001\n",
            "5            Maria        oyente  30406011\n"
          ]
        }
      ]
    },
    {
      "cell_type": "markdown",
      "metadata": {
        "id": "fZSDaj35zfTl"
      },
      "source": [
        "O podríamos haber querido eliminar las filas que tengan TODOS los valores nan. También podríamos haber específicado un subset de las columnas para verificar si las filas tienen valores nan y removerlas en ese caso."
      ]
    },
    {
      "cell_type": "code",
      "metadata": {
        "id": "tZxvmWv8zgDK",
        "colab": {
          "base_uri": "https://localhost:8080/"
        },
        "outputId": "ccabc756-f34e-4ff1-d2c2-3add28c078df"
      },
      "source": [
        "df_4 = df.dropna(how='all')\n",
        "print(df_4)\n"
      ],
      "execution_count": null,
      "outputs": [
        {
          "output_type": "stream",
          "name": "stdout",
          "text": [
            "            alumno  primer parcial  segundo parcial observaciones       DNI\n",
            "0           Zutano             7.0             10.0       ninguna  23000000\n",
            "1          Mengano             8.0              9.0         libre  12389100\n",
            "2           Zutano             7.0             10.0       ninguna  23000000\n",
            "3             Pepe             7.0              4.0       ninguna     99999\n",
            "4  Fulanito, Cosme             NaN             10.0         libre      1001\n",
            "5            Maria            10.0              NaN        oyente  30406011\n"
          ]
        }
      ]
    },
    {
      "cell_type": "code",
      "metadata": {
        "id": "B-8hYrtL0ACI",
        "colab": {
          "base_uri": "https://localhost:8080/"
        },
        "outputId": "2d110a5e-65b2-4426-c2d0-63ea5e48da5a"
      },
      "source": [
        "df_5 = df.dropna(subset=['primer parcial','observaciones'])\n",
        "print(df_5)"
      ],
      "execution_count": null,
      "outputs": [
        {
          "output_type": "stream",
          "name": "stdout",
          "text": [
            "    alumno  primer parcial  segundo parcial observaciones       DNI\n",
            "0   Zutano             7.0             10.0       ninguna  23000000\n",
            "1  Mengano             8.0              9.0         libre  12389100\n",
            "2   Zutano             7.0             10.0       ninguna  23000000\n",
            "3     Pepe             7.0              4.0       ninguna     99999\n",
            "5    Maria            10.0              NaN        oyente  30406011\n"
          ]
        }
      ]
    },
    {
      "cell_type": "markdown",
      "metadata": {
        "id": "xMOFI3O46uK0"
      },
      "source": [
        "Por último, puede que no queramos crear un dataframe nuevo. En ese caso, hacemos lo siguiente y modificamos el dataframe original:"
      ]
    },
    {
      "cell_type": "code",
      "metadata": {
        "id": "9odXGjDu6ut9",
        "colab": {
          "base_uri": "https://localhost:8080/"
        },
        "outputId": "df25d7f5-9676-40ec-ca89-7d5a0f92c142"
      },
      "source": [
        "df.dropna(inplace = True)\n",
        "print(df)"
      ],
      "execution_count": null,
      "outputs": [
        {
          "output_type": "stream",
          "name": "stdout",
          "text": [
            "    alumno  primer parcial  segundo parcial observaciones       DNI\n",
            "0   Zutano             7.0             10.0       ninguna  23000000\n",
            "1  Mengano             8.0              9.0         libre  12389100\n",
            "2   Zutano             7.0             10.0       ninguna  23000000\n",
            "3     Pepe             7.0              4.0       ninguna     99999\n"
          ]
        }
      ]
    },
    {
      "cell_type": "markdown",
      "metadata": {
        "id": "5bBUsr5i62Fy"
      },
      "source": [
        "Puede que no queramos eliminar las filas o columnas que tienen nan, sino llenar esas entradas usando algun valor fijo, o un promedio de las demás entradas de la fila o la columna. Para eso volvemos a definir el dataframe (porque lo modificamos en el bloque de código anterior) y luego probamos el método df.fillna()"
      ]
    },
    {
      "cell_type": "code",
      "metadata": {
        "id": "Cnd-dE5v636B",
        "colab": {
          "base_uri": "https://localhost:8080/"
        },
        "outputId": "be657001-47d3-4e2d-82bf-bb738f571a27"
      },
      "source": [
        "datos = {'alumno': ['Zutano', 'Mengano', 'Zutano','Pepe' ,'Fulanito, Cosme', 'Maria'], 'primer parcial': [7, 8,7,7,np.nan, 10], 'segundo parcial': [10,9,10,4,10,np.nan], 'observaciones':['ninguna','libre','ninguna','ninguna','libre','oyente'], 'DNI':[23000000, 12389100,23000000, 99999, 1001,30406011]}\n",
        "df = pd.DataFrame(datos)\n",
        "print(df)\n",
        "df_2 = df.fillna(-999)\n",
        "print(df_2)"
      ],
      "execution_count": null,
      "outputs": [
        {
          "output_type": "stream",
          "name": "stdout",
          "text": [
            "            alumno  primer parcial  segundo parcial observaciones       DNI\n",
            "0           Zutano             7.0             10.0       ninguna  23000000\n",
            "1          Mengano             8.0              9.0         libre  12389100\n",
            "2           Zutano             7.0             10.0       ninguna  23000000\n",
            "3             Pepe             7.0              4.0       ninguna     99999\n",
            "4  Fulanito, Cosme             NaN             10.0         libre      1001\n",
            "5            Maria            10.0              NaN        oyente  30406011\n",
            "            alumno  primer parcial  segundo parcial observaciones       DNI\n",
            "0           Zutano             7.0             10.0       ninguna  23000000\n",
            "1          Mengano             8.0              9.0         libre  12389100\n",
            "2           Zutano             7.0             10.0       ninguna  23000000\n",
            "3             Pepe             7.0              4.0       ninguna     99999\n",
            "4  Fulanito, Cosme          -999.0             10.0         libre      1001\n",
            "5            Maria            10.0           -999.0        oyente  30406011\n"
          ]
        }
      ]
    },
    {
      "cell_type": "markdown",
      "metadata": {
        "id": "2DPcjudG7KC5"
      },
      "source": [
        "Esto claramente reeplaza los valores faltantes usando un valor prefijado. Podemos también usar medias o medianas:"
      ]
    },
    {
      "cell_type": "code",
      "metadata": {
        "id": "YqUanmuo7Kws",
        "colab": {
          "base_uri": "https://localhost:8080/"
        },
        "outputId": "917e05fd-d6bd-414e-9bef-ef216017a799"
      },
      "source": [
        "a = df['primer parcial']\n",
        "df_3 = df.fillna(a.mean())\n",
        "print(df_3)"
      ],
      "execution_count": null,
      "outputs": [
        {
          "output_type": "stream",
          "name": "stdout",
          "text": [
            "            alumno  primer parcial  segundo parcial observaciones       DNI\n",
            "0           Zutano             7.0             10.0       ninguna  23000000\n",
            "1          Mengano             8.0              9.0         libre  12389100\n",
            "2           Zutano             7.0             10.0       ninguna  23000000\n",
            "3             Pepe             7.0              4.0       ninguna     99999\n",
            "4  Fulanito, Cosme             7.8             10.0         libre      1001\n",
            "5            Maria            10.0              7.8        oyente  30406011\n"
          ]
        }
      ]
    },
    {
      "cell_type": "markdown",
      "metadata": {
        "id": "iyhzVClN7UGW"
      },
      "source": [
        "Acá están sucediendo varias cosas. Primero, en a están los valores de la columna 'primer parcial'. Luego, dentro de fillna pongo a.mean() que computa el valor medio de todas las entradas que no son nan de esa columna. Ese valor es 7.8, el cual se completa en todas las entradas que tienen nan.\n",
        "\n",
        "Es lógico preguntarse si esto es lógico: en realidad, nos gustaría reemplazar el nan de la columna 'segundo parcial' por un promedio de los valores de esa columna, no de 'primer parcial'.\n"
      ]
    },
    {
      "cell_type": "code",
      "metadata": {
        "id": "pW1xaq937XCx",
        "colab": {
          "base_uri": "https://localhost:8080/"
        },
        "outputId": "abc3c0b1-96a6-4091-b4f5-2225c38d8fd5"
      },
      "source": [
        "a = df['primer parcial']\n",
        "b = df['segundo parcial']\n",
        "fill_dict = {'primer parcial':a.mean(), 'segundo parcial':b.mean()}\n",
        "df_4 = df.fillna(fill_dict)\n",
        "print(df_4)"
      ],
      "execution_count": null,
      "outputs": [
        {
          "output_type": "stream",
          "name": "stdout",
          "text": [
            "            alumno  primer parcial  segundo parcial observaciones       DNI\n",
            "0           Zutano             7.0             10.0       ninguna  23000000\n",
            "1          Mengano             8.0              9.0         libre  12389100\n",
            "2           Zutano             7.0             10.0       ninguna  23000000\n",
            "3             Pepe             7.0              4.0       ninguna     99999\n",
            "4  Fulanito, Cosme             7.8             10.0         libre      1001\n",
            "5            Maria            10.0              8.6        oyente  30406011\n"
          ]
        }
      ]
    },
    {
      "cell_type": "markdown",
      "metadata": {
        "id": "yrF1KNgX7l60"
      },
      "source": [
        "Vemos que ahora usa valores diferentes para completar los nan de cada columna (7.8 y 8.6). La forma de hacerlo es pasarle un diccionario donde las llaves indican las columnas y los valores, por lo que debe ser reemplazado el nan.\n",
        "\n",
        "Obviamente el valor medio únicamente tiene sentido para datos numéricos, pero podemos reemplazar los datos de otras formas si los datos son no numéricos (por ejemplo, por la entrada más frecuente).\n",
        "\n",
        "Puede que querramos filtrar los datos mediante algún criterio distinto, por ejemplo, retener únicamente a los alumnos libres, o bien a aquellos cuyo primer parcial fue mayor a 7.\n",
        "\n",
        "Una forma sencilla es iterar el índice, y eliminar las filas que no cumplan con la condición dada.\n"
      ]
    },
    {
      "cell_type": "code",
      "metadata": {
        "id": "BSwfkSJ87mkp",
        "colab": {
          "base_uri": "https://localhost:8080/"
        },
        "outputId": "1e68ed3b-3fa1-44fc-f39c-325f36ad2724"
      },
      "source": [
        "datos = {'alumno': ['Zutano', 'Mengano', 'Zutano','Pepe' ,'Fulanito, Cosme', 'Maria'], 'primer parcial': [7, 8,7,7,np.nan, 10], 'segundo parcial': [10,9,10,4,10,np.nan], 'observaciones':['ninguna','libre','ninguna','ninguna','libre','oyente'], 'DNI':[23000000, 12389100,23000000, 99999, 1001,30406011]}\n",
        "df = pd.DataFrame(datos)\n",
        "\n",
        "for x in df.index:\n",
        "  if not df.loc[x, \"observaciones\"] == 'libre':\n",
        "    df.drop(x, inplace = True)\n",
        "print(df)"
      ],
      "execution_count": null,
      "outputs": [
        {
          "output_type": "stream",
          "name": "stdout",
          "text": [
            "            alumno  primer parcial  segundo parcial observaciones       DNI\n",
            "1          Mengano             8.0              9.0         libre  12389100\n",
            "4  Fulanito, Cosme             NaN             10.0         libre      1001\n"
          ]
        }
      ]
    },
    {
      "cell_type": "code",
      "metadata": {
        "id": "d0q7Auim7vc6",
        "colab": {
          "base_uri": "https://localhost:8080/"
        },
        "outputId": "4a96a47b-b91c-48eb-a991-5d0f2b577e2b"
      },
      "source": [
        "# otra mejor forma\n",
        "datos = {'alumno': ['Zutano', 'Mengano', 'Zutano','Pepe' ,'Fulanito, Cosme', 'Maria'], 'primer parcial': [7, 8,7,7,np.nan, 10], 'segundo parcial': [10,9,10,4,10,np.nan], 'observaciones':['ninguna','libre','ninguna','ninguna','libre','oyente'], 'DNI':[23000000, 12389100,23000000, 99999, 1001,30406011]}\n",
        "df = pd.DataFrame(datos)\n",
        "\n",
        "df_libre = df[df['observaciones']=='libre']\n",
        "print(df_libre)"
      ],
      "execution_count": null,
      "outputs": [
        {
          "output_type": "stream",
          "name": "stdout",
          "text": [
            "            alumno  primer parcial  segundo parcial observaciones       DNI\n",
            "1          Mengano             8.0              9.0         libre  12389100\n",
            "4  Fulanito, Cosme             NaN             10.0         libre      1001\n"
          ]
        }
      ]
    },
    {
      "cell_type": "code",
      "metadata": {
        "id": "qPE_ejuj7vOh",
        "colab": {
          "base_uri": "https://localhost:8080/"
        },
        "outputId": "fb6518c1-d7fa-4150-c0ba-5460643f1af7"
      },
      "source": [
        "datos = {'alumno': ['Zutano', 'Mengano', 'Zutano','Pepe' ,'Fulanito, Cosme', 'Maria'], 'primer parcial': [7, 8,7,7,np.nan, 10], 'segundo parcial': [10,9,10,4,10,np.nan], 'observaciones':['ninguna','libre','ninguna','ninguna','libre','oyente'], 'DNI':[23000000, 12389100,23000000, 99999, 1001,30406011]}\n",
        "df = pd.DataFrame(datos)\n",
        "\n",
        "for x in df.index:\n",
        "  if df.loc[x, \"primer parcial\"] <= 7:\n",
        "    df.drop(x, inplace = True)\n",
        "print(df)"
      ],
      "execution_count": null,
      "outputs": [
        {
          "output_type": "stream",
          "name": "stdout",
          "text": [
            "            alumno  primer parcial  segundo parcial observaciones       DNI\n",
            "1          Mengano             8.0              9.0         libre  12389100\n",
            "4  Fulanito, Cosme             NaN             10.0         libre      1001\n",
            "5            Maria            10.0              NaN        oyente  30406011\n"
          ]
        }
      ]
    },
    {
      "cell_type": "markdown",
      "metadata": {
        "id": "GRosul1B8MPg"
      },
      "source": [
        "## Tratando datos duplicados\n",
        "\n",
        "Por último, puede que querramos remover duplicados. La forma más sencilla de hacerlo es con el método drop_duplicates()"
      ]
    },
    {
      "cell_type": "code",
      "metadata": {
        "id": "rADSoojb8M2H",
        "colab": {
          "base_uri": "https://localhost:8080/"
        },
        "outputId": "a8fcc433-1fef-475b-bc2e-c19b1eef649f"
      },
      "source": [
        "datos = {'alumno': ['Zutano', 'Mengano', 'Zutano','Pepe' ,'Fulanito, Cosme', 'Maria'], 'primer parcial': [7, 8,7,7,np.nan, 10], 'segundo parcial': [10,9,10,4,10,np.nan], 'observaciones':['ninguna','libre','ninguna','ninguna','libre','oyente'], 'DNI':[23000000, 12389100,23000000, 99999, 1001,30406011]}\n",
        "df = pd.DataFrame(datos)\n",
        "print(df)\n"
      ],
      "execution_count": null,
      "outputs": [
        {
          "output_type": "stream",
          "name": "stdout",
          "text": [
            "            alumno  primer parcial  segundo parcial observaciones       DNI\n",
            "0           Zutano             7.0             10.0       ninguna  23000000\n",
            "1          Mengano             8.0              9.0         libre  12389100\n",
            "2           Zutano             7.0             10.0       ninguna  23000000\n",
            "3             Pepe             7.0              4.0       ninguna     99999\n",
            "4  Fulanito, Cosme             NaN             10.0         libre      1001\n",
            "5            Maria            10.0              NaN        oyente  30406011\n"
          ]
        }
      ]
    },
    {
      "cell_type": "code",
      "metadata": {
        "id": "zBi4gMtV8PCV",
        "colab": {
          "base_uri": "https://localhost:8080/"
        },
        "outputId": "ad63749b-0014-4a0c-c0f7-c806fe08b1a8"
      },
      "source": [
        "df_2 = df.drop_duplicates()\n",
        "print(df_2)"
      ],
      "execution_count": null,
      "outputs": [
        {
          "output_type": "stream",
          "name": "stdout",
          "text": [
            "            alumno  primer parcial  segundo parcial observaciones       DNI\n",
            "0           Zutano             7.0             10.0       ninguna  23000000\n",
            "1          Mengano             8.0              9.0         libre  12389100\n",
            "3             Pepe             7.0              4.0       ninguna     99999\n",
            "4  Fulanito, Cosme             NaN             10.0         libre      1001\n",
            "5            Maria            10.0              NaN        oyente  30406011\n"
          ]
        }
      ]
    },
    {
      "cell_type": "markdown",
      "metadata": {
        "id": "zqGQZf258lYF"
      },
      "source": [
        "Algunas de los métodos que podemos aplicar a los dataframe son útiles para tener una idea de los valores de una columna sin tener que hacer demasiado trabajo. Esto es lo que podemos hacer con value_counts(), que nos devuelve todos los valores que toman las entradas de la columna, y la cantidad de veces que ocurren."
      ]
    },
    {
      "cell_type": "code",
      "metadata": {
        "id": "21yHxAsG8mIw",
        "colab": {
          "base_uri": "https://localhost:8080/"
        },
        "outputId": "d2e56b78-754f-44dc-813e-81f04c1fcb09"
      },
      "source": [
        "df['observaciones'].value_counts()"
      ],
      "execution_count": null,
      "outputs": [
        {
          "output_type": "execute_result",
          "data": {
            "text/plain": [
              "ninguna    3\n",
              "libre      2\n",
              "oyente     1\n",
              "Name: observaciones, dtype: int64"
            ]
          },
          "metadata": {},
          "execution_count": 35
        }
      ]
    },
    {
      "cell_type": "markdown",
      "metadata": {
        "id": "1qwwI1Rb85Fs"
      },
      "source": [
        "# Combinar Dataframes\n",
        "\n",
        "Lo último que vamos a ver en este Notebook es cómo combinar dos o más dataframes en uno solo.\n",
        "\n",
        "La forma más sencilla es hacer append de un dataframe a otro, ambos con las mismas columnas.\n"
      ]
    },
    {
      "cell_type": "code",
      "metadata": {
        "id": "7fCYuWto8_ZY",
        "colab": {
          "base_uri": "https://localhost:8080/"
        },
        "outputId": "03cac5bb-71e1-41ad-e15a-4d8125fc838d"
      },
      "source": [
        "datos_1 = {'alumno': ['Zutano', 'Mengano', 'Zutano','Pepe' ,'Fulanito, Cosme', 'Maria'], 'primer parcial': [7, 8,7,7,np.nan, 10], 'segundo parcial': [10,9,10,4,10,np.nan], 'observaciones':['ninguna','libre','ninguna','ninguna','libre','oyente'], 'DNI':[23000000, 12389100,23000000, 99999, 1001,30406011]}\n",
        "df_1 = pd.DataFrame(datos_1)\n",
        "\n",
        "datos_2 = {'alumno': ['Diego', 'Flor', 'José'], 'primer parcial': [10,10,8], 'segundo parcial': [8,8,8], 'observaciones':['ninguna','libre','libre'], 'DNI':[23299, 1043101,4406533]}\n",
        "df_2 = pd.DataFrame(datos_2)\n",
        "\n",
        "df_3 = df_1.append(df_2)\n",
        "print(df_3)"
      ],
      "execution_count": null,
      "outputs": [
        {
          "output_type": "stream",
          "name": "stdout",
          "text": [
            "            alumno  primer parcial  segundo parcial observaciones       DNI\n",
            "0           Zutano             7.0             10.0       ninguna  23000000\n",
            "1          Mengano             8.0              9.0         libre  12389100\n",
            "2           Zutano             7.0             10.0       ninguna  23000000\n",
            "3             Pepe             7.0              4.0       ninguna     99999\n",
            "4  Fulanito, Cosme             NaN             10.0         libre      1001\n",
            "5            Maria            10.0              NaN        oyente  30406011\n",
            "0            Diego            10.0              8.0       ninguna     23299\n",
            "1             Flor            10.0              8.0         libre   1043101\n",
            "2             José             8.0              8.0         libre   4406533\n"
          ]
        }
      ]
    },
    {
      "cell_type": "markdown",
      "metadata": {
        "id": "RriyP9Bk9MG-"
      },
      "source": [
        "Vemos que esto tiene un potencial problema: aparecen filas que tienen el mismo valor del índice, lo cual puede complicar localizarlas.\n",
        "\n",
        "Para resolver este problema, podemos usar pd.concat de la siguiente forma:\n"
      ]
    },
    {
      "cell_type": "code",
      "metadata": {
        "id": "FOlHoOzi9Sxe",
        "colab": {
          "base_uri": "https://localhost:8080/"
        },
        "outputId": "f34e80fd-5734-4f49-a501-c0df2a3da474"
      },
      "source": [
        "df_3 = df_1.append(df_2, ignore_index=True)\n",
        "print(df_3)"
      ],
      "execution_count": null,
      "outputs": [
        {
          "output_type": "stream",
          "name": "stdout",
          "text": [
            "            alumno  primer parcial  segundo parcial observaciones       DNI\n",
            "0           Zutano             7.0             10.0       ninguna  23000000\n",
            "1          Mengano             8.0              9.0         libre  12389100\n",
            "2           Zutano             7.0             10.0       ninguna  23000000\n",
            "3             Pepe             7.0              4.0       ninguna     99999\n",
            "4  Fulanito, Cosme             NaN             10.0         libre      1001\n",
            "5            Maria            10.0              NaN        oyente  30406011\n",
            "6            Diego            10.0              8.0       ninguna     23299\n",
            "7             Flor            10.0              8.0         libre   1043101\n",
            "8             José             8.0              8.0         libre   4406533\n"
          ]
        }
      ]
    },
    {
      "cell_type": "code",
      "metadata": {
        "id": "zvmMk2bl9WbF",
        "colab": {
          "base_uri": "https://localhost:8080/"
        },
        "outputId": "bd0fba2b-4828-4217-a0a7-bd3749a7800d"
      },
      "source": [
        "# Obien\n",
        "df_3 = pd.concat( (df_1,df_2), axis=0, join=\"outer\", ignore_index=True)\n",
        "print(df_3)"
      ],
      "execution_count": null,
      "outputs": [
        {
          "output_type": "stream",
          "name": "stdout",
          "text": [
            "            alumno  primer parcial  segundo parcial observaciones       DNI\n",
            "0           Zutano             7.0             10.0       ninguna  23000000\n",
            "1          Mengano             8.0              9.0         libre  12389100\n",
            "2           Zutano             7.0             10.0       ninguna  23000000\n",
            "3             Pepe             7.0              4.0       ninguna     99999\n",
            "4  Fulanito, Cosme             NaN             10.0         libre      1001\n",
            "5            Maria            10.0              NaN        oyente  30406011\n",
            "6            Diego            10.0              8.0       ninguna     23299\n",
            "7             Flor            10.0              8.0         libre   1043101\n",
            "8             José             8.0              8.0         libre   4406533\n"
          ]
        }
      ]
    },
    {
      "cell_type": "markdown",
      "metadata": {
        "id": "qiafSPBz9mdH"
      },
      "source": [
        "Vemos cómo en este caso el índice se reinicia empezando desde 0. Por supuesto, como vimos antes, siempre podemos reindexar usando otra columna que sirva a ese propósito (el DNI sería la mejor opción).\n",
        "\n",
        "El proceso de unir o mergear dos dataframes con distintas columnas es familiar para aquellos con alguna experiencia en SQL. Supongamos que tenemos este dataframe reindexado por el DNI:\n"
      ]
    },
    {
      "cell_type": "code",
      "metadata": {
        "id": "IA4SCSmB9nRj",
        "colab": {
          "base_uri": "https://localhost:8080/"
        },
        "outputId": "aaa17f09-87f3-4825-c268-411a272bae9d"
      },
      "source": [
        "df_DNI = df_3.set_index('DNI')\n",
        "print(df_DNI)"
      ],
      "execution_count": null,
      "outputs": [
        {
          "output_type": "stream",
          "name": "stdout",
          "text": [
            "                   alumno  primer parcial  segundo parcial observaciones\n",
            "DNI                                                                     \n",
            "23000000           Zutano             7.0             10.0       ninguna\n",
            "12389100          Mengano             8.0              9.0         libre\n",
            "23000000           Zutano             7.0             10.0       ninguna\n",
            "99999                Pepe             7.0              4.0       ninguna\n",
            "1001      Fulanito, Cosme             NaN             10.0         libre\n",
            "30406011            Maria            10.0              NaN        oyente\n",
            "23299               Diego            10.0              8.0       ninguna\n",
            "1043101              Flor            10.0              8.0         libre\n",
            "4406533              José             8.0              8.0         libre\n"
          ]
        }
      ]
    },
    {
      "cell_type": "markdown",
      "metadata": {
        "id": "HRZkRi6D9tkL"
      },
      "source": [
        "Supongamos que tenemos además otro dataframe indexado por el el DNI, con algún solapamiento parcial con este dataset."
      ]
    },
    {
      "cell_type": "code",
      "metadata": {
        "id": "xgX-wJ6j9uUh",
        "colab": {
          "base_uri": "https://localhost:8080/"
        },
        "outputId": "983cc835-ec12-41ee-a7df-75a567e79549"
      },
      "source": [
        "datos_1 = {'alumno': ['Roberto', 'Mengano', 'Carlos','Marisol' ,'Fulanito, Cosme'], 'cuota al día': ['sí','sí','no','no','sí'], 'año que cursa': [2, 2, 2, 1, 4]}\n",
        "df_1 = pd.DataFrame(datos_1, index=[3934444, 12389100, 2939393, 10102394,1001])\n",
        "print(df_1)"
      ],
      "execution_count": null,
      "outputs": [
        {
          "output_type": "stream",
          "name": "stdout",
          "text": [
            "                   alumno cuota al día  año que cursa\n",
            "3934444           Roberto           sí              2\n",
            "12389100          Mengano           sí              2\n",
            "2939393            Carlos           no              2\n",
            "10102394          Marisol           no              1\n",
            "1001      Fulanito, Cosme           sí              4\n"
          ]
        }
      ]
    },
    {
      "cell_type": "markdown",
      "metadata": {
        "id": "YoBV3vmq9zxY"
      },
      "source": [
        "Yo puedo querer combinar toda esta información en una misma tabla, de forma tal que el índice determine cómo se unen las filas.\n"
      ]
    },
    {
      "cell_type": "code",
      "metadata": {
        "id": "VsXcORjX91ay",
        "colab": {
          "base_uri": "https://localhost:8080/"
        },
        "outputId": "ffacf437-431e-4d30-9eab-71b98d1cc700"
      },
      "source": [
        "df_all = pd.merge(df_DNI,df_1, how=\"inner\")\n",
        "print(df_all)"
      ],
      "execution_count": null,
      "outputs": [
        {
          "output_type": "stream",
          "name": "stdout",
          "text": [
            "            alumno  primer parcial  ...  cuota al día año que cursa\n",
            "0          Mengano             8.0  ...            sí             2\n",
            "1  Fulanito, Cosme             NaN  ...            sí             4\n",
            "\n",
            "[2 rows x 6 columns]\n"
          ]
        }
      ]
    },
    {
      "cell_type": "markdown",
      "metadata": {
        "id": "2aNRn1PS-e0w"
      },
      "source": [
        "Vemos que el merge unión a los que estaban en la intersección de ambos dataframes. Esto cambia a la únion si modificamos inner por outer:"
      ]
    },
    {
      "cell_type": "code",
      "metadata": {
        "id": "WAxWIZol-ekS",
        "colab": {
          "base_uri": "https://localhost:8080/"
        },
        "outputId": "9a28bf03-4ce2-406f-f0fb-a804a6acf523"
      },
      "source": [
        "df_all = pd.merge(df_DNI,df_1, how=\"outer\")\n",
        "print(df_all)"
      ],
      "execution_count": null,
      "outputs": [
        {
          "output_type": "stream",
          "name": "stdout",
          "text": [
            "             alumno  primer parcial  ...  cuota al día año que cursa\n",
            "0            Zutano             7.0  ...           NaN           NaN\n",
            "1            Zutano             7.0  ...           NaN           NaN\n",
            "2           Mengano             8.0  ...            sí           2.0\n",
            "3              Pepe             7.0  ...           NaN           NaN\n",
            "4   Fulanito, Cosme             NaN  ...            sí           4.0\n",
            "5             Maria            10.0  ...           NaN           NaN\n",
            "6             Diego            10.0  ...           NaN           NaN\n",
            "7              Flor            10.0  ...           NaN           NaN\n",
            "8              José             8.0  ...           NaN           NaN\n",
            "9           Roberto             NaN  ...            sí           2.0\n",
            "10           Carlos             NaN  ...            no           2.0\n",
            "11          Marisol             NaN  ...            no           1.0\n",
            "\n",
            "[12 rows x 6 columns]\n"
          ]
        }
      ]
    },
    {
      "cell_type": "markdown",
      "metadata": {
        "id": "tDnyd9Ze-twN"
      },
      "source": [
        "En este caso, rellena con nan donde no hay información."
      ]
    }
  ]
}